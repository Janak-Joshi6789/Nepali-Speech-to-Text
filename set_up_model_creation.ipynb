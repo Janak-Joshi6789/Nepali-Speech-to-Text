{
 "cells": [
  {
   "cell_type": "code",
   "execution_count": 1,
   "id": "18b918eb-19ef-4caa-be8a-2adecc36f4e7",
   "metadata": {},
   "outputs": [
    {
     "name": "stdout",
     "output_type": "stream",
     "text": [
      "Number of GPU:  1\n",
      "GPU Name:  NVIDIA L4\n",
      "Using device: cuda\n"
     ]
    }
   ],
   "source": [
    "#check whether cuda is enabled or not\n",
    "import torch\n",
    "\n",
    "print(\"Number of GPU: \", torch.cuda.device_count())\n",
    "print(\"GPU Name: \", torch.cuda.get_device_name())\n",
    "\n",
    "device = torch.device('cuda' if torch.cuda.is_available() else 'cpu')\n",
    "print('Using device:', device)"
   ]
  },
  {
   "cell_type": "code",
   "execution_count": 2,
   "id": "73d2c78a-42ad-460c-8543-cec758bfadad",
   "metadata": {},
   "outputs": [],
   "source": [
    "from huggingface_hub import notebook_login"
   ]
  },
  {
   "cell_type": "code",
   "execution_count": 3,
   "id": "29b4a3d5-9600-4148-9cd0-ae6607e392be",
   "metadata": {},
   "outputs": [],
   "source": [
    "from datasets import load_dataset #65\n",
    "from evaluate import load #55"
   ]
  },
  {
   "cell_type": "code",
   "execution_count": 4,
   "id": "c9934882-fec7-4e78-b0f0-ea8c38af1355",
   "metadata": {},
   "outputs": [],
   "source": [
    "import wandb\n",
    "import pandas as pd\n",
    "import numpy as np\n",
    "import re\n",
    "import json\n",
    "from sklearn.model_selection import train_test_split\n",
    "import random\n",
    "from IPython.display import display, HTML\n",
    "import torchaudio "
   ]
  },
  {
   "cell_type": "code",
   "execution_count": 5,
   "id": "eb4a3e5e-9fea-4a7c-b439-186567f10aa0",
   "metadata": {},
   "outputs": [
    {
     "name": "stderr",
     "output_type": "stream",
     "text": [
      "\u001b[34m\u001b[1mwandb\u001b[0m: Using wandb-core as the SDK backend.  Please refer to https://wandb.me/wandb-core for more information.\n",
      "\u001b[34m\u001b[1mwandb\u001b[0m: \u001b[33mWARNING\u001b[0m If you're specifying your api key in code, ensure this code is not shared publicly.\n",
      "\u001b[34m\u001b[1mwandb\u001b[0m: \u001b[33mWARNING\u001b[0m Consider setting the WANDB_API_KEY environment variable, or running `wandb login` from the command line.\n",
      "\u001b[34m\u001b[1mwandb\u001b[0m: Appending key for api.wandb.ai to your netrc file: /teamspace/studios/this_studio/.netrc\n",
      "\u001b[34m\u001b[1mwandb\u001b[0m: Currently logged in as: \u001b[33mshresthpiyusha\u001b[0m (\u001b[33mshresthpiyusha-khwopa-engineering-college\u001b[0m) to \u001b[32mhttps://api.wandb.ai\u001b[0m. Use \u001b[1m`wandb login --relogin`\u001b[0m to force relogin\n"
     ]
    },
    {
     "data": {
      "text/plain": [
       "True"
      ]
     },
     "execution_count": 5,
     "metadata": {},
     "output_type": "execute_result"
    }
   ],
   "source": [
    "wandb.login(key=\"17e571ce732c38896183d4d8756eee3ceb5ec0fd\") # add wandb API key"
   ]
  },
  {
   "cell_type": "code",
   "execution_count": 6,
   "id": "6089f83f-cd88-4749-916c-e9c666e1f123",
   "metadata": {},
   "outputs": [
    {
     "data": {
      "text/html": [
       "Tracking run with wandb version 0.19.7"
      ],
      "text/plain": [
       "<IPython.core.display.HTML object>"
      ]
     },
     "metadata": {},
     "output_type": "display_data"
    },
    {
     "data": {
      "text/html": [
       "Run data is saved locally in <code>/teamspace/studios/this_studio/wandb/run-20250311_061249-brzf86gy</code>"
      ],
      "text/plain": [
       "<IPython.core.display.HTML object>"
      ]
     },
     "metadata": {},
     "output_type": "display_data"
    },
    {
     "data": {
      "text/html": [
       "Syncing run <strong><a href='https://wandb.ai/shresthpiyusha-khwopa-engineering-college/lipyantrak/runs/brzf86gy' target=\"_blank\">decent-pyramid-22</a></strong> to <a href='https://wandb.ai/shresthpiyusha-khwopa-engineering-college/lipyantrak' target=\"_blank\">Weights & Biases</a> (<a href='https://wandb.me/developer-guide' target=\"_blank\">docs</a>)<br>"
      ],
      "text/plain": [
       "<IPython.core.display.HTML object>"
      ]
     },
     "metadata": {},
     "output_type": "display_data"
    },
    {
     "data": {
      "text/html": [
       " View project at <a href='https://wandb.ai/shresthpiyusha-khwopa-engineering-college/lipyantrak' target=\"_blank\">https://wandb.ai/shresthpiyusha-khwopa-engineering-college/lipyantrak</a>"
      ],
      "text/plain": [
       "<IPython.core.display.HTML object>"
      ]
     },
     "metadata": {},
     "output_type": "display_data"
    },
    {
     "data": {
      "text/html": [
       " View run at <a href='https://wandb.ai/shresthpiyusha-khwopa-engineering-college/lipyantrak/runs/brzf86gy' target=\"_blank\">https://wandb.ai/shresthpiyusha-khwopa-engineering-college/lipyantrak/runs/brzf86gy</a>"
      ],
      "text/plain": [
       "<IPython.core.display.HTML object>"
      ]
     },
     "metadata": {},
     "output_type": "display_data"
    },
    {
     "data": {
      "text/html": [
       "<button onClick=\"this.nextSibling.style.display='block';this.style.display='none';\">Display W&B run</button><iframe src='https://wandb.ai/shresthpiyusha-khwopa-engineering-college/lipyantrak/runs/brzf86gy?jupyter=true' style='border:none;width:100%;height:420px;display:none;'></iframe>"
      ],
      "text/plain": [
       "<wandb.sdk.wandb_run.Run at 0x7f3f313bd060>"
      ]
     },
     "execution_count": 6,
     "metadata": {},
     "output_type": "execute_result"
    }
   ],
   "source": [
    "wandb.init(project=\"lipyantrak\")"
   ]
  },
  {
   "cell_type": "code",
   "execution_count": 7,
   "id": "fb11ed8e-39b6-47ca-a288-64a78cfcbf9b",
   "metadata": {},
   "outputs": [
    {
     "name": "stdout",
     "output_type": "stream",
     "text": [
      "mkdir: cannot create directory ‘csv_files’: File exists\n"
     ]
    },
    {
     "name": "stdout",
     "output_type": "stream",
     "text": [
      "mkdir: cannot create directory ‘trained_models’: File exists\n",
      "mkdir: cannot create directory ‘checkpoints’: File exists\n",
      "mkdir: cannot create directory ‘tokenizer’: File exists\n",
      "mkdir: cannot create directory ‘processor’: File exists\n"
     ]
    }
   ],
   "source": [
    "!mkdir csv_files\n",
    "!mkdir trained_models\n",
    "!mkdir checkpoints\n",
    "!mkdir tokenizer \n",
    "!mkdir processor \n",
    "!mkdir feature_extractor"
   ]
  },
  {
   "cell_type": "code",
   "execution_count": 8,
   "id": "405c1362-3443-465c-8f12-ce6204c80888",
   "metadata": {},
   "outputs": [],
   "source": [
    "csv_folder_path = './csv_files'\n",
    "trained_model_path ='./trained_models/wav2vec0.8dropout'\n",
    "processor_path = './processor/wav2vec0.8dropout'\n",
    "checkpoints_path = './checkpoints/'\n",
    "tokenizer_path = './tokenizer/'\n",
    "feature_extractor='./feature_extractor/'"
   ]
  },
  {
   "cell_type": "code",
   "execution_count": 9,
   "id": "bdb65ff1-6336-4b20-a62c-50376a702556",
   "metadata": {},
   "outputs": [
    {
     "name": "stdout",
     "output_type": "stream",
     "text": [
      "(5000, 2)\n"
     ]
    },
    {
     "data": {
      "text/html": [
       "<div>\n",
       "<style scoped>\n",
       "    .dataframe tbody tr th:only-of-type {\n",
       "        vertical-align: middle;\n",
       "    }\n",
       "\n",
       "    .dataframe tbody tr th {\n",
       "        vertical-align: top;\n",
       "    }\n",
       "\n",
       "    .dataframe thead th {\n",
       "        text-align: right;\n",
       "    }\n",
       "</style>\n",
       "<table border=\"1\" class=\"dataframe\">\n",
       "  <thead>\n",
       "    <tr style=\"text-align: right;\">\n",
       "      <th></th>\n",
       "      <th>path</th>\n",
       "      <th>labels</th>\n",
       "    </tr>\n",
       "  </thead>\n",
       "  <tbody>\n",
       "    <tr>\n",
       "      <th>0</th>\n",
       "      <td>./training_data/audio/f22b322d02.wav</td>\n",
       "      <td>रत्नलाल ब्राह्मन</td>\n",
       "    </tr>\n",
       "    <tr>\n",
       "      <th>1</th>\n",
       "      <td>./training_data/audio/a9551300e5.wav</td>\n",
       "      <td>उहाँले अभिनय गरेको</td>\n",
       "    </tr>\n",
       "    <tr>\n",
       "      <th>2</th>\n",
       "      <td>./training_data/audio/b66b8a664c.wav</td>\n",
       "      <td>बहुजातीय प्रजातन्त्रसम्म पुर्‍याए</td>\n",
       "    </tr>\n",
       "    <tr>\n",
       "      <th>3</th>\n",
       "      <td>./training_data/audio/99fa4290b2.wav</td>\n",
       "      <td>परम्पराका अनुसार</td>\n",
       "    </tr>\n",
       "    <tr>\n",
       "      <th>4</th>\n",
       "      <td>./training_data/audio/b50124946a.wav</td>\n",
       "      <td>नेपालको टिमलाई धन्यवाद</td>\n",
       "    </tr>\n",
       "  </tbody>\n",
       "</table>\n",
       "</div>"
      ],
      "text/plain": [
       "                                   path                             labels\n",
       "0  ./training_data/audio/f22b322d02.wav                   रत्नलाल ब्राह्मन\n",
       "1  ./training_data/audio/a9551300e5.wav                 उहाँले अभिनय गरेको\n",
       "2  ./training_data/audio/b66b8a664c.wav  बहुजातीय प्रजातन्त्रसम्म पुर्‍याए\n",
       "3  ./training_data/audio/99fa4290b2.wav                   परम्पराका अनुसार\n",
       "4  ./training_data/audio/b50124946a.wav             नेपालको टिमलाई धन्यवाद"
      ]
     },
     "execution_count": 9,
     "metadata": {},
     "output_type": "execute_result"
    }
   ],
   "source": [
    "colnames = [\"path\",\"labels\"]\n",
    "audio_path = './training_data/audio/'\n",
    "transcript_path = './training_data/split_15.csv'\n",
    "df = pd.read_csv(transcript_path,usecols=colnames)\n",
    "df[\"path\"] = audio_path + df[\"path\"] + \".wav\"\n",
    "print(df.shape)\n",
    "df.head()"
   ]
  },
  {
   "cell_type": "code",
   "execution_count": 10,
   "id": "7419be4c-fe00-44ce-a8c7-f31f86a5226b",
   "metadata": {},
   "outputs": [],
   "source": [
    "TEST_RATIO = 0.90 \n",
    "VAL_RATIO = 0.75"
   ]
  },
  {
   "cell_type": "code",
   "execution_count": 11,
   "id": "0b2f7f70-fc68-4e00-a500-321c095720c5",
   "metadata": {},
   "outputs": [],
   "source": [
    "train_df, test_df = train_test_split(df, random_state = 0, train_size = TEST_RATIO)\n",
    "train_df, val_df = train_test_split(train_df, random_state = 0, train_size = VAL_RATIO)\n"
   ]
  },
  {
   "cell_type": "code",
   "execution_count": 12,
   "id": "facb0e77-2d27-4049-b9d5-628bb455fa47",
   "metadata": {},
   "outputs": [],
   "source": [
    "train_df.to_csv(csv_folder_path+'/train.csv',index=False)\n",
    "val_df.to_csv(csv_folder_path+'/val.csv',index=False)\n",
    "test_df.to_csv(csv_folder_path+'/test.csv',index=False)"
   ]
  },
  {
   "cell_type": "code",
   "execution_count": 13,
   "id": "7e3fb765-9c0f-4072-a25d-dbb920f03c99",
   "metadata": {},
   "outputs": [],
   "source": [
    "data_files = {\n",
    "    \"train\": \"train.csv\",\n",
    "    \"validation\": \"val.csv\",\n",
    "    \"test\": \"test.csv\"\n",
    "}"
   ]
  },
  {
   "cell_type": "code",
   "execution_count": 14,
   "id": "500ca59b-71c6-43c3-ae20-8f09ba843b3c",
   "metadata": {},
   "outputs": [
    {
     "data": {
      "application/vnd.jupyter.widget-view+json": {
       "model_id": "80b657e03c704c2f8e13715c6e035858",
       "version_major": 2,
       "version_minor": 0
      },
      "text/plain": [
       "Generating train split: 0 examples [00:00, ? examples/s]"
      ]
     },
     "metadata": {},
     "output_type": "display_data"
    },
    {
     "data": {
      "application/vnd.jupyter.widget-view+json": {
       "model_id": "2a4ea5337db5440f956889fb86c13862",
       "version_major": 2,
       "version_minor": 0
      },
      "text/plain": [
       "Generating validation split: 0 examples [00:00, ? examples/s]"
      ]
     },
     "metadata": {},
     "output_type": "display_data"
    },
    {
     "data": {
      "application/vnd.jupyter.widget-view+json": {
       "model_id": "c1404b643d2a46068427f95a631cb2c5",
       "version_major": 2,
       "version_minor": 0
      },
      "text/plain": [
       "Generating test split: 0 examples [00:00, ? examples/s]"
      ]
     },
     "metadata": {},
     "output_type": "display_data"
    }
   ],
   "source": [
    "train_data = load_dataset(csv_folder_path, data_files = data_files, split = \"train\")\n",
    "val_data = load_dataset(csv_folder_path, data_files = data_files, split = \"validation\")"
   ]
  },
  {
   "cell_type": "code",
   "execution_count": 15,
   "id": "2ad78550-8155-4cfb-9f28-5672d6582a87",
   "metadata": {},
   "outputs": [],
   "source": [
    "def show_random_elements(dataset, num_examples=10):\n",
    "    assert num_examples <= len(dataset), \"Can't pick more elements than there are in the dataset.\"\n",
    "    picks = []\n",
    "    for _ in range(num_examples):\n",
    "        pick = random.randint(0, len(dataset)-1)\n",
    "        while pick in picks:\n",
    "            pick = random.randint(0, len(dataset)-1)\n",
    "        picks.append(pick)\n",
    "    \n",
    "    df = pd.DataFrame(dataset[picks])\n",
    "    display(HTML(df.to_html()))"
   ]
  },
  {
   "cell_type": "code",
   "execution_count": 16,
   "id": "71913a11-a296-406b-8820-723c70ef8c89",
   "metadata": {},
   "outputs": [],
   "source": [
    "# chars_to_ignore = '[\\,\\?\\.\\!\\-\\;\\:\\\"\\“\\%\\‘\\”\\ ]'\n",
    "chars_to_ignore = r'[\\,\\?\\.\\!\\-\\;\\:\\\"\\“\\%\\‘\\”\\ ]'"
   ]
  },
  {
   "cell_type": "code",
   "execution_count": 17,
   "id": "f59232e3-2ccb-45b4-863a-0def78b56c49",
   "metadata": {},
   "outputs": [],
   "source": [
    "def remove_special_characters(batch):\n",
    "    batch[\"labels\"] = re.sub(chars_to_ignore, '', batch[\"labels\"]).lower() + \" \"\n",
    "    return batch"
   ]
  },
  {
   "cell_type": "code",
   "execution_count": 18,
   "id": "94d44e0d-727f-4a8d-918d-fd734716059b",
   "metadata": {},
   "outputs": [
    {
     "data": {
      "application/vnd.jupyter.widget-view+json": {
       "model_id": "0b86123ea69d49ea88d7d869e726e12b",
       "version_major": 2,
       "version_minor": 0
      },
      "text/plain": [
       "Map:   0%|          | 0/3375 [00:00<?, ? examples/s]"
      ]
     },
     "metadata": {},
     "output_type": "display_data"
    },
    {
     "data": {
      "application/vnd.jupyter.widget-view+json": {
       "model_id": "efce0e044a794b5788b8b058e60b13ef",
       "version_major": 2,
       "version_minor": 0
      },
      "text/plain": [
       "Map:   0%|          | 0/1125 [00:00<?, ? examples/s]"
      ]
     },
     "metadata": {},
     "output_type": "display_data"
    }
   ],
   "source": [
    "train_data = train_data.map(remove_special_characters)\n",
    "val_data = val_data.map(remove_special_characters)"
   ]
  },
  {
   "cell_type": "code",
   "execution_count": 19,
   "id": "c036c239-401c-4061-a8e3-263869f450e8",
   "metadata": {},
   "outputs": [],
   "source": [
    "unique_letters = {\n",
    "    \"[PAD]\": 0,\n",
    "    \"[UNK]\": 1,\n",
    "    \"|\": 2,\n",
    "    \" \": 3,  # Added space\n",
    "    \"क\": 4,\n",
    "    \"ख\": 5,\n",
    "    \"ग\": 6,\n",
    "    \"घ\": 7,\n",
    "    \"ङ\": 8,\n",
    "    \"च\": 9,\n",
    "    \"छ\": 10,\n",
    "    \"ज\": 11,\n",
    "    \"झ\": 12,\n",
    "    \"ञ\": 13,\n",
    "    \"ट\": 14,\n",
    "    \"ठ\": 15,\n",
    "    \"ड\": 16,\n",
    "    \"ढ\": 17,\n",
    "    \"ण\": 18,\n",
    "    \"त\": 19,\n",
    "    \"थ\": 20,\n",
    "    \"द\": 21,\n",
    "    \"ध\": 22,\n",
    "    \"न\": 23,\n",
    "    \"प\": 24,\n",
    "    \"फ\": 25,\n",
    "    \"ब\": 26,\n",
    "    \"भ\": 27,\n",
    "    \"म\": 28,\n",
    "    \"य\": 29,\n",
    "    \"र\": 30,\n",
    "    \"ल\": 31,\n",
    "    \"व\": 32,\n",
    "    \"श\": 33,\n",
    "    \"ष\": 34,\n",
    "    \"स\": 35,\n",
    "    \"ह\": 36,\n",
    "    \"क्ष\": 37,\n",
    "    \"त्र\": 38,\n",
    "    \"ज्ञ\": 39,\n",
    "    \"अ\": 40,\n",
    "    \"आ\": 41,\n",
    "    \"इ\": 42,\n",
    "    \"ई\": 43,\n",
    "    \"उ\": 44,\n",
    "    \"ऊ\": 45,\n",
    "    \"ए\": 46,\n",
    "    \"ऐ\": 47,\n",
    "    \"ओ\": 48,\n",
    "    \"औ\": 49,\n",
    "    \"अं\": 50,\n",
    "    \"अः\": 51,\n",
    "    \"ा\": 52,\n",
    "    \"ि\": 53,\n",
    "    \"ी\": 54,\n",
    "    \"ु\": 55,\n",
    "    \"ू\": 56,\n",
    "    \"े\": 57,\n",
    "    \"ै\": 58,\n",
    "    \"ो\": 59,\n",
    "    \"ौ\": 60,\n",
    "    \"ं\": 61,\n",
    "    \"ः\": 62,\n",
    "    \"ँ\": 63,\n",
    "    \"०\": 64,\n",
    "    \"१\": 65,\n",
    "    \"२\": 66,\n",
    "    \"३\": 67,\n",
    "    \"४\": 68,\n",
    "    \"५\": 69,\n",
    "    \"६\": 70,\n",
    "    \"७\": 71,\n",
    "    \"८\": 72,\n",
    "    \"९\": 73,\n",
    "    \"्\": 74, # Halant (virama)\n",
    "    \"ऱ्\": 75, \n",
    "    \"ृ\": 76\n",
    "}\n"
   ]
  },
  {
   "cell_type": "code",
   "execution_count": 20,
   "id": "f140661e-ef09-49ad-a0b1-d6cdfe7eb096",
   "metadata": {},
   "outputs": [
    {
     "name": "stdout",
     "output_type": "stream",
     "text": [
      "Unique letters saved to ./input/cleaned-asr-data/data/vocabulary/vocab.json\n"
     ]
    }
   ],
   "source": [
    "# Save to JSON format\n",
    "output_file = \"./input/cleaned-asr-data/data/vocabulary/vocab.json\"\n",
    "with open(output_file, \"w\", encoding=\"utf-8\") as f:\n",
    "    json.dump(unique_letters, f, ensure_ascii=False, indent=4)\n",
    "\n",
    "print(f\"Unique letters saved to {output_file}\")"
   ]
  },
  {
   "cell_type": "code",
   "execution_count": 21,
   "id": "c83d3448-ef9f-43d3-bf10-b48f2a39b44f",
   "metadata": {},
   "outputs": [],
   "source": [
    "import os\n",
    "from transformers import Trainer, TrainingArguments, Wav2Vec2ForCTC, Wav2Vec2CTCTokenizer, Wav2Vec2FeatureExtractor, Wav2Vec2Processor, AutoTokenizer\n",
    "\n",
    "# Set environment variable to handle fragmentation\n",
    "os.environ[\"PYTORCH_CUDA_ALLOC_CONF\"] = \"expandable_segments:True\"\n",
    "\n",
    "# Define model and arguments\n",
    "# model = Wav2Vec2ForCTC.from_pretrained(\"facebook/wav2vec2-large-xlsr-53\")"
   ]
  },
  {
   "cell_type": "code",
   "execution_count": 22,
   "id": "420dc771",
   "metadata": {},
   "outputs": [],
   "source": [
    "# model = Wav2Vec2ForCTC.from_pretrained(\n",
    "#     \"facebook/wav2vec2-large-xlsr-53\", \n",
    "#     attention_dropout = 0.1,\n",
    "#     hidden_dropout = 0.1,\n",
    "#     feat_proj_dropout = 0.0,\n",
    "#     mask_time_prob = 0.05,\n",
    "#     layerdrop = 0.1,\n",
    "#     gradient_checkpointing = True, \n",
    "#     ctc_loss_reduction = \"mean\", \n",
    "#     pad_token_id = processor.tokenizer.pad_token_id,\n",
    "#     vocab_size = len(processor.tokenizer)\n",
    "# )\n",
    "\n",
    "# for checkpoint\n",
    "# model = Wav2Vec2ForCTC.from_pretrained(\"./checkpoints/checkpoint-4500\")"
   ]
  },
  {
   "cell_type": "code",
   "execution_count": 23,
   "id": "21452c8a",
   "metadata": {},
   "outputs": [
    {
     "name": "stdout",
     "output_type": "stream",
     "text": [
      "Number of parameters with decay: 213\n",
      "Number of parameters without decay: 211\n",
      "Total parameters: 424\n"
     ]
    }
   ],
   "source": [
    "# Load model\n",
    "device = torch.device('cuda' if torch.cuda.is_available() else 'cpu')\n",
    "model = Wav2Vec2ForCTC.from_pretrained(\"./checkpoints/checkpoint-900/\")\n",
    "model.gradient_checkpointing_enable()\n",
    "model.config.attention_dropout = 0.3  # Increased dropout\n",
    "model.config.hidden_dropout = 0.3\n",
    "model.config.feat_proj_dropout = 0.2\n",
    "model.config.mask_time_prob = 0.2\n",
    "model.config.layerdrop = 0.25\n",
    "model.to(device)\n",
    "\n",
    "# Load processor\n",
    "processor = Wav2Vec2Processor.from_pretrained(\"./processor/wav2vec0.8dropout/\")\n",
    "\n",
    "# Define optimizer and scheduler\n",
    "no_decay = ['bias', 'LayerNorm.weight', 'LayerNorm.bias']\n",
    "decay_params, no_decay_params = [], []\n",
    "\n",
    "for name, param in model.named_parameters():\n",
    "    if any(nd in name for nd in no_decay):\n",
    "        no_decay_params.append(param)\n",
    "    else:\n",
    "        decay_params.append(param)\n",
    "\n",
    "# Print counts for reference (no need to match 149/247 or 149/275 exactly)\n",
    "print(f\"Number of parameters with decay: {len(decay_params)}\")\n",
    "print(f\"Number of parameters without decay: {len(no_decay_params)}\")\n",
    "print(f\"Total parameters: {len(decay_params) + len(no_decay_params)}\")"
   ]
  },
  {
   "cell_type": "code",
   "execution_count": 24,
   "id": "d0e57bd4-9ebd-4aa2-81f6-f65fb3a30dce",
   "metadata": {},
   "outputs": [],
   "source": [
    "vocab_path = \"./input/cleaned-asr-data/data/vocabulary/vocab.json\"\n",
    "tokenizer = Wav2Vec2CTCTokenizer(\n",
    "    vocab_path, \n",
    "    unk_token = \"[UNK]\", \n",
    "    pad_token = \"[PAD]\", \n",
    "    word_delimiter_token = \"|\"\n",
    ")"
   ]
  },
  {
   "cell_type": "code",
   "execution_count": 25,
   "id": "b0292cfd-2f35-434f-afb8-43f342ced0bb",
   "metadata": {},
   "outputs": [
    {
     "data": {
      "text/plain": [
       "('./tokenizer/tokenizer_config.json',\n",
       " './tokenizer/special_tokens_map.json',\n",
       " './tokenizer/vocab.json',\n",
       " './tokenizer/added_tokens.json')"
      ]
     },
     "execution_count": 25,
     "metadata": {},
     "output_type": "execute_result"
    }
   ],
   "source": [
    "tokenizer.save_pretrained(tokenizer_path)"
   ]
  },
  {
   "cell_type": "code",
   "execution_count": 26,
   "id": "a61d5e0d-4ced-4170-9c6d-113f0362bc90",
   "metadata": {},
   "outputs": [],
   "source": [
    "# feature_extractor = Wav2Vec2FeatureExtractor(\n",
    "#     feature_size = 1, \n",
    "#     sampling_rate = 16000, \n",
    "#     padding_value = 0.0, \n",
    "#     do_normalize = True, \n",
    "#     return_attention_mask = True\n",
    "# )"
   ]
  },
  {
   "cell_type": "code",
   "execution_count": 27,
   "id": "e1fad9da-bd91-43ea-acb5-12daa885be20",
   "metadata": {},
   "outputs": [],
   "source": [
    "# processor = Wav2Vec2Processor(\n",
    "#     feature_extractor = feature_extractor, \n",
    "#     tokenizer = tokenizer\n",
    "# )"
   ]
  },
  {
   "cell_type": "code",
   "execution_count": 28,
   "id": "e5690460-3b11-40d1-bc48-1c23e9665035",
   "metadata": {},
   "outputs": [
    {
     "data": {
      "text/plain": [
       "[]"
      ]
     },
     "execution_count": 28,
     "metadata": {},
     "output_type": "execute_result"
    }
   ],
   "source": [
    "processor.save_pretrained(processor_path)\n",
    "# tokenizer= AutoTokenizer.from_pretrained(\"your-model-name\")\n",
    "# tokenizer.save_pretrained(\"path/to/save/tokenizer\")"
   ]
  },
  {
   "cell_type": "code",
   "execution_count": 29,
   "id": "7efd1be7-6967-4aef-b820-03ee8aeea46a",
   "metadata": {},
   "outputs": [],
   "source": [
    "def speech_file_to_array_fn(batch):\n",
    "    speech_array, sampling_rate = torchaudio.load(batch[\"path\"])\n",
    "    batch[\"speech\"] = speech_array[0].numpy()\n",
    "    batch[\"sampling_rate\"] = sampling_rate\n",
    "    batch[\"target_text\"] = batch[\"labels\"]\n",
    "    \n",
    "    resampler = torchaudio.transforms.Resample(sampling_rate, 16000)\n",
    "    batch[\"speech\"] = resampler(speech_array).squeeze().numpy()\n",
    "    batch[\"sampling_rate\"] = 16000\n",
    "    \n",
    "    return batch"
   ]
  },
  {
   "cell_type": "code",
   "execution_count": null,
   "id": "d4fe1b57-8a12-44af-89ac-975a17b7eab0",
   "metadata": {},
   "outputs": [
    {
     "data": {
      "application/vnd.jupyter.widget-view+json": {
       "model_id": "7e5775fa8edb4d0e81e577a2d44447ad",
       "version_major": 2,
       "version_minor": 0
      },
      "text/plain": [
       "Map:   0%|          | 0/3375 [00:00<?, ? examples/s]"
      ]
     },
     "metadata": {},
     "output_type": "display_data"
    }
   ],
   "source": [
    "train_data = train_data.map(speech_file_to_array_fn, remove_columns=train_data.column_names)\n",
    "val_data = val_data.map(speech_file_to_array_fn, remove_columns=val_data.column_names)"
   ]
  },
  {
   "cell_type": "code",
   "execution_count": 54,
   "id": "d9d3bf68-4875-4d2c-aa3a-2158b9b9d20b",
   "metadata": {},
   "outputs": [],
   "source": [
    "from IPython.display import Audio  # Import the Audio class"
   ]
  },
  {
   "cell_type": "code",
   "execution_count": 55,
   "id": "5b81c0fa-2493-45d0-81ef-5157c1713ecb",
   "metadata": {},
   "outputs": [],
   "source": [
    "rand_int = random.randint(0, len(train_data) - 1)"
   ]
  },
  {
   "cell_type": "code",
   "execution_count": 56,
   "id": "8e2f6f7c-28f2-49e2-bb1f-8e231c619788",
   "metadata": {},
   "outputs": [
    {
     "data": {
      "text/plain": [
       "'मन्दिरमाचढाएकोसामग्रीहरूबाट '"
      ]
     },
     "execution_count": 56,
     "metadata": {},
     "output_type": "execute_result"
    }
   ],
   "source": [
    " train_data[rand_int][\"target_text\"]"
   ]
  },
  {
   "cell_type": "code",
   "execution_count": 57,
   "id": "a1a81b15-3c9a-4e88-8872-deefdb44283c",
   "metadata": {},
   "outputs": [],
   "source": [
    "def prepare_dataset(batch, processor):\n",
    "        \n",
    "    # check that all files have the correct sampling rate\n",
    "    assert (\n",
    "        len(set(batch[\"sampling_rate\"])) == 1\n",
    "    ), f\"Make sure all inputs have the same sampling rate of {processor.feature_extractor.sampling_rate}.\"\n",
    "\n",
    "    batch[\"input_values\"] = processor(batch[\"speech\"], sampling_rate = batch[\"sampling_rate\"][0]).input_values\n",
    "    \n",
    "    with processor.as_target_processor():\n",
    "        batch[\"labels\"] = processor(batch[\"target_text\"]).input_ids\n",
    "    return batch"
   ]
  },
  {
   "cell_type": "code",
   "execution_count": 58,
   "id": "c924f247-ad58-4824-9905-b221f55fe345",
   "metadata": {},
   "outputs": [
    {
     "data": {
      "application/vnd.jupyter.widget-view+json": {
       "model_id": "4291b4af5f284677a45e5c17e5b44e82",
       "version_major": 2,
       "version_minor": 0
      },
      "text/plain": [
       "Map (num_proc=4):   0%|          | 0/3375 [00:00<?, ? examples/s]"
      ]
     },
     "metadata": {},
     "output_type": "display_data"
    },
    {
     "name": "stderr",
     "output_type": "stream",
     "text": [
      "/home/zeus/miniconda3/envs/cloudspace/lib/python3.10/site-packages/transformers/models/wav2vec2/processing_wav2vec2.py:174: UserWarning: `as_target_processor` is deprecated and will be removed in v5 of Transformers. You can process your labels by using the argument `text` of the regular `__call__` method (either in the same call as your audio inputs, or in a separate call.\n",
      "  warnings.warn(\n"
     ]
    },
    {
     "name": "stderr",
     "output_type": "stream",
     "text": [
      "/home/zeus/miniconda3/envs/cloudspace/lib/python3.10/site-packages/transformers/models/wav2vec2/processing_wav2vec2.py:174: UserWarning: `as_target_processor` is deprecated and will be removed in v5 of Transformers. You can process your labels by using the argument `text` of the regular `__call__` method (either in the same call as your audio inputs, or in a separate call.\n",
      "  warnings.warn(\n",
      "/home/zeus/miniconda3/envs/cloudspace/lib/python3.10/site-packages/transformers/models/wav2vec2/processing_wav2vec2.py:174: UserWarning: `as_target_processor` is deprecated and will be removed in v5 of Transformers. You can process your labels by using the argument `text` of the regular `__call__` method (either in the same call as your audio inputs, or in a separate call.\n",
      "  warnings.warn(\n",
      "/home/zeus/miniconda3/envs/cloudspace/lib/python3.10/site-packages/transformers/models/wav2vec2/processing_wav2vec2.py:174: UserWarning: `as_target_processor` is deprecated and will be removed in v5 of Transformers. You can process your labels by using the argument `text` of the regular `__call__` method (either in the same call as your audio inputs, or in a separate call.\n",
      "  warnings.warn(\n"
     ]
    },
    {
     "data": {
      "application/vnd.jupyter.widget-view+json": {
       "model_id": "89957f4927fb40d18764944f2d30da77",
       "version_major": 2,
       "version_minor": 0
      },
      "text/plain": [
       "Map (num_proc=4):   0%|          | 0/1125 [00:00<?, ? examples/s]"
      ]
     },
     "metadata": {},
     "output_type": "display_data"
    },
    {
     "name": "stderr",
     "output_type": "stream",
     "text": [
      "/home/zeus/miniconda3/envs/cloudspace/lib/python3.10/site-packages/transformers/models/wav2vec2/processing_wav2vec2.py:174: UserWarning: `as_target_processor` is deprecated and will be removed in v5 of Transformers. You can process your labels by using the argument `text` of the regular `__call__` method (either in the same call as your audio inputs, or in a separate call.\n",
      "  warnings.warn(\n",
      "/home/zeus/miniconda3/envs/cloudspace/lib/python3.10/site-packages/transformers/models/wav2vec2/processing_wav2vec2.py:174: UserWarning: `as_target_processor` is deprecated and will be removed in v5 of Transformers. You can process your labels by using the argument `text` of the regular `__call__` method (either in the same call as your audio inputs, or in a separate call.\n",
      "  warnings.warn(\n",
      "/home/zeus/miniconda3/envs/cloudspace/lib/python3.10/site-packages/transformers/models/wav2vec2/processing_wav2vec2.py:174: UserWarning: `as_target_processor` is deprecated and will be removed in v5 of Transformers. You can process your labels by using the argument `text` of the regular `__call__` method (either in the same call as your audio inputs, or in a separate call.\n",
      "  warnings.warn(\n",
      "/home/zeus/miniconda3/envs/cloudspace/lib/python3.10/site-packages/transformers/models/wav2vec2/processing_wav2vec2.py:174: UserWarning: `as_target_processor` is deprecated and will be removed in v5 of Transformers. You can process your labels by using the argument `text` of the regular `__call__` method (either in the same call as your audio inputs, or in a separate call.\n",
      "  warnings.warn(\n"
     ]
    }
   ],
   "source": [
    "train_data = train_data.map(prepare_dataset, fn_kwargs = {\"processor\": processor}, remove_columns = train_data.column_names, batch_size = 8, num_proc = 4, batched = True)\n",
    "val_data = val_data.map(prepare_dataset, fn_kwargs = {\"processor\": processor}, remove_columns = val_data.column_names, batch_size = 8, num_proc = 4, batched = True)"
   ]
  },
  {
   "cell_type": "code",
   "execution_count": 59,
   "id": "b169a4b2-b1db-40d8-864b-83aea93946cb",
   "metadata": {},
   "outputs": [],
   "source": [
    "from dataclasses import dataclass\n",
    "from typing import Any, Dict, List, Optional, Union"
   ]
  },
  {
   "cell_type": "code",
   "execution_count": 60,
   "id": "974836a0-45a3-42fd-9ef6-6cb2ca625c0d",
   "metadata": {},
   "outputs": [],
   "source": [
    "@dataclass\n",
    "class DataCollatorCTCWithPadding:\n",
    "    processor: Wav2Vec2Processor\n",
    "    padding: Union[bool, str] = True\n",
    "    max_length: Optional[int] = None\n",
    "    max_length_labels: Optional[int] = None\n",
    "    pad_to_multiple_of: Optional[int] = None\n",
    "    pad_to_multiple_of_labels: Optional[int] = None\n",
    "\n",
    "    def __call__(self, features: List[Dict[str, Union[List[int], torch.Tensor]]]) -> Dict[str, torch.Tensor]:\n",
    "        # split inputs and labels since they have to be of different lenghts and need\n",
    "        # different padding methods\n",
    "        input_features = [{\"input_values\": feature[\"input_values\"]} for feature in features]\n",
    "        label_features = [{\"input_ids\": feature[\"labels\"]} for feature in features]\n",
    "\n",
    "        batch = self.processor.pad(\n",
    "            input_features,\n",
    "            padding=self.padding,\n",
    "            max_length=self.max_length,\n",
    "            pad_to_multiple_of=self.pad_to_multiple_of,\n",
    "            return_tensors=\"pt\",\n",
    "        )\n",
    "        with self.processor.as_target_processor():\n",
    "            labels_batch = self.processor.pad(\n",
    "                label_features,\n",
    "                padding=self.padding,\n",
    "                max_length=self.max_length_labels,\n",
    "                pad_to_multiple_of=self.pad_to_multiple_of_labels,\n",
    "                return_tensors=\"pt\",\n",
    "            )\n",
    "\n",
    "        # replace padding with -100 to ignore loss correctly\n",
    "        labels = labels_batch[\"input_ids\"].masked_fill(labels_batch.attention_mask.ne(1), -100)\n",
    "\n",
    "        batch[\"labels\"] = labels\n",
    "\n",
    "        return batch"
   ]
  },
  {
   "cell_type": "code",
   "execution_count": 61,
   "id": "3943b3ea-8a4f-47a5-afa6-09fb84ebf817",
   "metadata": {},
   "outputs": [],
   "source": [
    "data_collator = DataCollatorCTCWithPadding(processor = processor, padding = True)"
   ]
  },
  {
   "cell_type": "code",
   "execution_count": 62,
   "id": "c5473c99-3c6b-4f7b-9688-aab7dcbaf098",
   "metadata": {},
   "outputs": [],
   "source": [
    "wer_metric = load(\"wer\")\n",
    "cer_metric = load(\"cer\")"
   ]
  },
  {
   "cell_type": "code",
   "execution_count": 63,
   "id": "79fccd9d-dcd8-46cd-a6cf-ab321e719841",
   "metadata": {},
   "outputs": [],
   "source": [
    "model.freeze_feature_encoder()"
   ]
  },
  {
   "cell_type": "code",
   "execution_count": 64,
   "id": "b0a67caf-361b-43a7-b301-e9a204196b76",
   "metadata": {},
   "outputs": [],
   "source": [
    "def compute_metrics(pred):\n",
    "    pred_logits = pred.predictions\n",
    "    pred_ids = np.argmax(pred_logits, axis=-1)\n",
    "\n",
    "    pred.label_ids[pred.label_ids == -100] = processor.tokenizer.pad_token_id\n",
    "\n",
    "    pred_str = processor.batch_decode(pred_ids)\n",
    "    label_str = processor.batch_decode(pred.label_ids, group_tokens=False)\n",
    "\n",
    "    wer = wer_metric.compute(predictions=pred_str, references=label_str)\n",
    "    cer = cer_metric.compute(predictions=pred_str, references=label_str)\n",
    "    \n",
    " \n",
    "    # ✅ Log metrics to Weights & Biases\n",
    "    wandb.log({'wer': wer, 'cer': cer})\n",
    "    \n",
    "    return {\"wer\": wer, \"cer\": cer}\n"
   ]
  },
  {
   "cell_type": "code",
   "execution_count": 65,
   "id": "7e57ebbe-5069-4646-a7b7-938dc1c74787",
   "metadata": {},
   "outputs": [],
   "source": [
    "from transformers import EarlyStoppingCallback\n",
    "import accelerate"
   ]
  },
  {
   "cell_type": "code",
   "execution_count": 66,
   "id": "02ee4d72-9a72-4f46-b56e-ec2c83493db4",
   "metadata": {},
   "outputs": [
    {
     "name": "stderr",
     "output_type": "stream",
     "text": [
      "/home/zeus/miniconda3/envs/cloudspace/lib/python3.10/site-packages/transformers/training_args.py:1594: FutureWarning: `evaluation_strategy` is deprecated and will be removed in version 4.46 of 🤗 Transformers. Use `eval_strategy` instead\n",
      "  warnings.warn(\n"
     ]
    }
   ],
   "source": [
    "training_args = TrainingArguments(\n",
    "    output_dir=\"./checkpoints\",\n",
    "    resume_from_checkpoint=True,\n",
    "    per_device_train_batch_size=4,  # Increased batch size\n",
    "    gradient_accumulation_steps=4,\n",
    "    evaluation_strategy=\"steps\",\n",
    "    num_train_epochs=30,\n",
    "    fp16=True,\n",
    "    save_steps=300,\n",
    "    eval_steps=300,\n",
    "    logging_steps=100,\n",
    "    learning_rate=1e-4,  # Slightly higher initial learning rate\n",
    "    warmup_steps=500,    # Increased warmup steps\n",
    "    save_total_limit=2,\n",
    "    gradient_checkpointing=True,\n",
    "    metric_for_best_model=\"wer\",\n",
    "    lr_scheduler_type=\"cosine\",\n",
    "    greater_is_better=False,\n",
    "    report_to=\"wandb\",\n",
    "    weight_decay=0.1,          # Increased weight decay\n",
    "    label_smoothing_factor=0.0,  # Added label smoothing\n",
    "    max_grad_norm=1.0  # Gradient clipping\n",
    ")"
   ]
  },
  {
   "cell_type": "code",
   "execution_count": 67,
   "id": "c8f87ccb",
   "metadata": {},
   "outputs": [],
   "source": [
    "# Create a new optimizer from scratch\n",
    "# optimizer = torch.optim.AdamW([\n",
    "#     {\"params\": decay_params, \"lr\": training_args.learning_rate, \"weight_decay\": training_args.weight_decay},\n",
    "#     {\"params\": no_decay_params, \"lr\": training_args.learning_rate, \"weight_decay\": 0.0}\n",
    "# ])\n",
    "optimizer = torch.optim.AdamW([\n",
    "    {\"params\": decay_params, \"lr\": 1e-4, \"weight_decay\": 0.05},  # Lower LR\n",
    "    {\"params\": no_decay_params, \"lr\": 1e-4, \"weight_decay\": 0.0}\n",
    "])\n",
    "\n",
    "# Adjusted scheduler (ReduceLROnPlateau)\n",
    "total_steps = training_args.num_train_epochs * (len(train_data) // (training_args.per_device_train_batch_size * training_args.gradient_accumulation_steps))\n",
    "scheduler = torch.optim.lr_scheduler.LinearLR(optimizer, start_factor=1.0, end_factor=0.1, total_iters=total_steps)\n",
    "# scheduler = torch.optim.lr_scheduler.ReduceLROnPlateau(optimizer, mode='min', factor=0.5, patience=3)\n"
   ]
  },
  {
   "cell_type": "code",
   "execution_count": 68,
   "id": "a96f49cd-aeae-4719-8628-230545fceb6e",
   "metadata": {},
   "outputs": [],
   "source": [
    "import matplotlib.pyplot as plt\n"
   ]
  },
  {
   "cell_type": "code",
   "execution_count": 69,
   "id": "9742c357-8e78-4661-a1a5-22c621449022",
   "metadata": {},
   "outputs": [
    {
     "name": "stderr",
     "output_type": "stream",
     "text": [
      "/tmp/ipykernel_1873/1725020737.py:2: FutureWarning: `tokenizer` is deprecated and will be removed in version 5.0.0 for `Trainer.__init__`. Use `processing_class` instead.\n",
      "  trainer = Trainer(\n"
     ]
    }
   ],
   "source": [
    "# Create the Trainer\n",
    "trainer = Trainer(\n",
    "    model=model,  # Your model\n",
    "    data_collator=data_collator,  # Data collator for batching\n",
    "    args=training_args,  # Training arguments\n",
    "    compute_metrics=compute_metrics,  # Function to compute metrics\n",
    "    train_dataset=train_data,  # Training dataset\n",
    "    eval_dataset=val_data,  # Evaluation dataset\n",
    "    tokenizer=processor.feature_extractor,  # Tokenizer/processor\n",
    "    # processing_class=processor  # Use processing_class\n",
    "    callbacks=[EarlyStoppingCallback(early_stopping_patience=5)],  # Stop if no improvement for 5 epochs\n",
    "    optimizers=(optimizer, scheduler)\n",
    ")"
   ]
  },
  {
   "cell_type": "code",
   "execution_count": 70,
   "id": "d83cb8fe",
   "metadata": {},
   "outputs": [
    {
     "name": "stderr",
     "output_type": "stream",
     "text": [
      "/tmp/ipykernel_1873/2984383469.py:1: FutureWarning: `torch.cuda.amp.GradScaler(args...)` is deprecated. Please use `torch.amp.GradScaler('cuda', args...)` instead.\n",
      "  trainer.accelerator.scaler = torch.cuda.amp.GradScaler()\n"
     ]
    }
   ],
   "source": [
    "trainer.accelerator.scaler = torch.cuda.amp.GradScaler()"
   ]
  },
  {
   "cell_type": "code",
   "execution_count": 71,
   "id": "50beec38-8a63-49f2-b164-355aa2b277e0",
   "metadata": {},
   "outputs": [
    {
     "name": "stderr",
     "output_type": "stream",
     "text": [
      "\u001b[34m\u001b[1mwandb\u001b[0m: \u001b[33mWARNING\u001b[0m The `run_name` is currently set to the same value as `TrainingArguments.output_dir`. If this was not intended, please specify a different run name by setting the `TrainingArguments.run_name` parameter.\n",
      "Using EarlyStoppingCallback without load_best_model_at_end=True. Once training is finished, the best model will not be loaded automatically.\n",
      "/home/zeus/miniconda3/envs/cloudspace/lib/python3.10/site-packages/transformers/models/wav2vec2/processing_wav2vec2.py:174: UserWarning: `as_target_processor` is deprecated and will be removed in v5 of Transformers. You can process your labels by using the argument `text` of the regular `__call__` method (either in the same call as your audio inputs, or in a separate call.\n",
      "  warnings.warn(\n"
     ]
    },
    {
     "data": {
      "text/html": [
       "\n",
       "    <div>\n",
       "      \n",
       "      <progress value='2400' max='6330' style='width:300px; height:20px; vertical-align: middle;'></progress>\n",
       "      [2400/6330 38:57 < 1:03:50, 1.03 it/s, Epoch 11/30]\n",
       "    </div>\n",
       "    <table border=\"1\" class=\"dataframe\">\n",
       "  <thead>\n",
       " <tr style=\"text-align: left;\">\n",
       "      <th>Step</th>\n",
       "      <th>Training Loss</th>\n",
       "      <th>Validation Loss</th>\n",
       "      <th>Wer</th>\n",
       "      <th>Cer</th>\n",
       "    </tr>\n",
       "  </thead>\n",
       "  <tbody>\n",
       "    <tr>\n",
       "      <td>300</td>\n",
       "      <td>0.733000</td>\n",
       "      <td>0.298184</td>\n",
       "      <td>0.600889</td>\n",
       "      <td>0.088314</td>\n",
       "    </tr>\n",
       "    <tr>\n",
       "      <td>600</td>\n",
       "      <td>0.709900</td>\n",
       "      <td>0.294055</td>\n",
       "      <td>0.588444</td>\n",
       "      <td>0.086275</td>\n",
       "    </tr>\n",
       "    <tr>\n",
       "      <td>900</td>\n",
       "      <td>0.650500</td>\n",
       "      <td>0.296227</td>\n",
       "      <td>0.571556</td>\n",
       "      <td>0.085728</td>\n",
       "    </tr>\n",
       "    <tr>\n",
       "      <td>1200</td>\n",
       "      <td>0.636100</td>\n",
       "      <td>0.310973</td>\n",
       "      <td>0.575111</td>\n",
       "      <td>0.084684</td>\n",
       "    </tr>\n",
       "    <tr>\n",
       "      <td>1500</td>\n",
       "      <td>0.609300</td>\n",
       "      <td>0.327442</td>\n",
       "      <td>0.607111</td>\n",
       "      <td>0.088961</td>\n",
       "    </tr>\n",
       "    <tr>\n",
       "      <td>1800</td>\n",
       "      <td>0.553600</td>\n",
       "      <td>0.328363</td>\n",
       "      <td>0.637333</td>\n",
       "      <td>0.094978</td>\n",
       "    </tr>\n",
       "    <tr>\n",
       "      <td>2100</td>\n",
       "      <td>0.555200</td>\n",
       "      <td>0.326870</td>\n",
       "      <td>0.613333</td>\n",
       "      <td>0.093536</td>\n",
       "    </tr>\n",
       "    <tr>\n",
       "      <td>2400</td>\n",
       "      <td>0.529200</td>\n",
       "      <td>0.340707</td>\n",
       "      <td>0.611556</td>\n",
       "      <td>0.091149</td>\n",
       "    </tr>\n",
       "  </tbody>\n",
       "</table><p>"
      ],
      "text/plain": [
       "<IPython.core.display.HTML object>"
      ]
     },
     "metadata": {},
     "output_type": "display_data"
    },
    {
     "name": "stderr",
     "output_type": "stream",
     "text": [
      "/home/zeus/miniconda3/envs/cloudspace/lib/python3.10/site-packages/transformers/models/wav2vec2/processing_wav2vec2.py:174: UserWarning: `as_target_processor` is deprecated and will be removed in v5 of Transformers. You can process your labels by using the argument `text` of the regular `__call__` method (either in the same call as your audio inputs, or in a separate call.\n",
      "  warnings.warn(\n",
      "/home/zeus/miniconda3/envs/cloudspace/lib/python3.10/site-packages/transformers/models/wav2vec2/processing_wav2vec2.py:174: UserWarning: `as_target_processor` is deprecated and will be removed in v5 of Transformers. You can process your labels by using the argument `text` of the regular `__call__` method (either in the same call as your audio inputs, or in a separate call.\n",
      "  warnings.warn(\n",
      "/home/zeus/miniconda3/envs/cloudspace/lib/python3.10/site-packages/transformers/models/wav2vec2/processing_wav2vec2.py:174: UserWarning: `as_target_processor` is deprecated and will be removed in v5 of Transformers. You can process your labels by using the argument `text` of the regular `__call__` method (either in the same call as your audio inputs, or in a separate call.\n",
      "  warnings.warn(\n",
      "/home/zeus/miniconda3/envs/cloudspace/lib/python3.10/site-packages/transformers/models/wav2vec2/processing_wav2vec2.py:174: UserWarning: `as_target_processor` is deprecated and will be removed in v5 of Transformers. You can process your labels by using the argument `text` of the regular `__call__` method (either in the same call as your audio inputs, or in a separate call.\n",
      "  warnings.warn(\n",
      "/home/zeus/miniconda3/envs/cloudspace/lib/python3.10/site-packages/transformers/models/wav2vec2/processing_wav2vec2.py:174: UserWarning: `as_target_processor` is deprecated and will be removed in v5 of Transformers. You can process your labels by using the argument `text` of the regular `__call__` method (either in the same call as your audio inputs, or in a separate call.\n",
      "  warnings.warn(\n",
      "/home/zeus/miniconda3/envs/cloudspace/lib/python3.10/site-packages/transformers/models/wav2vec2/processing_wav2vec2.py:174: UserWarning: `as_target_processor` is deprecated and will be removed in v5 of Transformers. You can process your labels by using the argument `text` of the regular `__call__` method (either in the same call as your audio inputs, or in a separate call.\n",
      "  warnings.warn(\n",
      "/home/zeus/miniconda3/envs/cloudspace/lib/python3.10/site-packages/transformers/models/wav2vec2/processing_wav2vec2.py:174: UserWarning: `as_target_processor` is deprecated and will be removed in v5 of Transformers. You can process your labels by using the argument `text` of the regular `__call__` method (either in the same call as your audio inputs, or in a separate call.\n",
      "  warnings.warn(\n"
     ]
    },
    {
     "data": {
      "text/plain": [
       "TrainOutput(global_step=2400, training_loss=0.6269237422943115, metrics={'train_runtime': 2340.2746, 'train_samples_per_second': 43.264, 'train_steps_per_second': 2.705, 'total_flos': 6.792012708811892e+18, 'train_loss': 0.6269237422943115, 'epoch': 11.374407582938389})"
      ]
     },
     "execution_count": 71,
     "metadata": {},
     "output_type": "execute_result"
    }
   ],
   "source": [
    "# trainer.train(resume_from_checkpoint=\"./checkpoints/checkpoint-600\")\n",
    "trainer.train()"
   ]
  },
  {
   "cell_type": "code",
   "execution_count": 72,
   "id": "80789102-21e5-4f38-9b47-9200fe5550d3",
   "metadata": {},
   "outputs": [],
   "source": [
    "trainer.save_model(trained_model_path)"
   ]
  },
  {
   "cell_type": "code",
   "execution_count": 73,
   "id": "6a080868-8c02-4543-9132-3d631080dd8c",
   "metadata": {},
   "outputs": [
    {
     "name": "stderr",
     "output_type": "stream",
     "text": [
      "/home/zeus/miniconda3/envs/cloudspace/lib/python3.10/site-packages/transformers/models/wav2vec2/processing_wav2vec2.py:174: UserWarning: `as_target_processor` is deprecated and will be removed in v5 of Transformers. You can process your labels by using the argument `text` of the regular `__call__` method (either in the same call as your audio inputs, or in a separate call.\n",
      "  warnings.warn(\n"
     ]
    },
    {
     "data": {
      "text/html": [
       "\n",
       "    <div>\n",
       "      \n",
       "      <progress value='141' max='141' style='width:300px; height:20px; vertical-align: middle;'></progress>\n",
       "      [141/141 00:32]\n",
       "    </div>\n",
       "    "
      ],
      "text/plain": [
       "<IPython.core.display.HTML object>"
      ]
     },
     "metadata": {},
     "output_type": "display_data"
    },
    {
     "name": "stdout",
     "output_type": "stream",
     "text": [
      "Final WER: 61.16%\n",
      "Final CER: 9.11%\n"
     ]
    }
   ],
   "source": [
    "#  Optionally, evaluate final model\n",
    "final_metrics = trainer.evaluate()\n",
    "print(f\"Final WER: {final_metrics['eval_wer'] * 100:.2f}%\")\n",
    "print(f\"Final CER: {final_metrics['eval_cer'] * 100:.2f}%\")"
   ]
  },
  {
   "cell_type": "code",
   "execution_count": 74,
   "id": "780e1f86",
   "metadata": {},
   "outputs": [],
   "source": [
    "# After training, compute final metrics\n",
    "# metrics = trainer.evaluate()"
   ]
  },
  {
   "cell_type": "code",
   "execution_count": 75,
   "id": "fe8433d1",
   "metadata": {},
   "outputs": [],
   "source": [
    "# # Added: How to find loss, error, and accuracy\n",
    "# print(\"\\n==== Final Model Evaluation ====\")\n",
    "# print(f\"Final WER (Word Error Rate): {metrics['eval_wer'] * 100:.2f}%\")\n",
    "# print(f\"Final CER (Character Error Rate): {metrics['eval_cer'] * 100:.2f}%\")\n",
    "# print(f\"Final Validation Loss: {metrics['eval_loss']:.4f}\")"
   ]
  },
  {
   "cell_type": "code",
   "execution_count": 76,
   "id": "6e212b6a",
   "metadata": {},
   "outputs": [],
   "source": [
    "# # Added: Calculate Accuracy (1 - WER and 1 - CER)\n",
    "# word_accuracy = (1 - metrics['eval_wer']) * 100\n",
    "# char_accuracy = (1 - metrics['eval_cer']) * 100\n",
    "# print(f\"Word-Level Accuracy: {word_accuracy:.2f}%\")\n",
    "# print(f\"Character-Level Accuracy: {char_accuracy:.2f}%\")\n"
   ]
  },
  {
   "cell_type": "code",
   "execution_count": 77,
   "id": "19be9b74",
   "metadata": {},
   "outputs": [],
   "source": [
    "# # Ensure loss visualization includes the final evaluation\n",
    "# # Prepare data for plotting\n",
    "# epochs = metrics_callback.epochs\n",
    "# train_loss = metrics_callback.train_loss\n",
    "# val_loss = metrics_callback.val_loss"
   ]
  },
  {
   "cell_type": "code",
   "execution_count": 78,
   "id": "39624ccd",
   "metadata": {},
   "outputs": [],
   "source": [
    "# # Ensure lengths match for plotting\n",
    "# min_length = min(len(epochs), len(train_loss), len(val_loss))\n",
    "# epochs = epochs[:min_length]\n",
    "# train_loss = train_loss[:min_length]\n",
    "# val_loss = val_loss[:min_length]"
   ]
  },
  {
   "cell_type": "code",
   "execution_count": 79,
   "id": "826ed6a3",
   "metadata": {},
   "outputs": [],
   "source": [
    "# # Plot training and validation loss\n",
    "# plt.figure(figsize=(10, 6))\n",
    "# plt.plot(epochs, train_loss, label=\"Training Loss\", marker=\"o\")\n",
    "# plt.plot(epochs, val_loss, label=\"Validation Loss\", marker=\"x\")\n",
    "# plt.title(\"Training and Validation Loss Over Epochs\", fontsize=16)\n",
    "# plt.xlabel(\"Epochs\", fontsize=14)\n",
    "# plt.ylabel(\"Loss\", fontsize=14)\n",
    "# plt.legend(fontsize=12)\n",
    "# plt.grid(True)\n",
    "# plt.show()"
   ]
  },
  {
   "cell_type": "code",
   "execution_count": 80,
   "id": "efdf12b3",
   "metadata": {},
   "outputs": [],
   "source": [
    "import matplotlib.pyplot as plt\n",
    "\n",
    "# Extract logs from the trainer's log history\n",
    "logs = trainer.state.log_history\n",
    "\n",
    "# Extract values from logs\n",
    "steps = [log[\"step\"] for log in logs if \"loss\" in log]\n",
    "train_loss = [log[\"loss\"] for log in logs if \"loss\" in log]\n",
    "eval_loss = [log[\"eval_loss\"] for log in logs if \"eval_loss\" in log]\n",
    "wer = [log[\"eval_wer\"] for log in logs if \"eval_wer\" in log]\n",
    "cer = [log[\"eval_cer\"] for log in logs if \"eval_cer\" in log]\n",
    "learning_rate = [log[\"learning_rate\"] for log in logs if \"learning_rate\" in log]\n"
   ]
  },
  {
   "cell_type": "code",
   "execution_count": 81,
   "id": "fc344b5a",
   "metadata": {},
   "outputs": [],
   "source": [
    "min_length = min(len(steps), len(eval_loss), len(wer), len(cer))\n",
    "steps = steps[:min_length]\n",
    "eval_loss = eval_loss[:min_length]\n",
    "wer = wer[:min_length]\n",
    "cer = cer[:min_length]\n",
    "train_loss = train_loss[:min_length]\n",
    "learning_rate = learning_rate[:min_length]"
   ]
  },
  {
   "cell_type": "code",
   "execution_count": 82,
   "id": "d3d73a5c",
   "metadata": {},
   "outputs": [
    {
     "data": {
      "image/png": "[encoded data removed]",
      "text/plain": [
       "<Figure size 1000x500 with 1 Axes>"
      ]
     },
     "metadata": {},
     "output_type": "display_data"
    }
   ],
   "source": [
    "# Plot Training Loss\n",
    "plt.figure(figsize=(10, 5))\n",
    "plt.plot(steps, train_loss, label=\"Training Loss\", color=\"blue\")\n",
    "plt.xlabel(\"Steps\")\n",
    "plt.ylabel(\"Loss\")\n",
    "plt.title(\"Training Loss Over Steps\")\n",
    "plt.legend()\n",
    "plt.savefig(\"./graphs/split15/training_loss.png\")\n",
    "plt.show()\n"
   ]
  },
  {
   "cell_type": "code",
   "execution_count": 83,
   "id": "7ef07c5b",
   "metadata": {},
   "outputs": [
    {
     "data": {
      "image/png": "[encoded data removed]",
      "text/plain": [
       "<Figure size 1000x500 with 1 Axes>"
      ]
     },
     "metadata": {},
     "output_type": "display_data"
    }
   ],
   "source": [
    "#save the plots # Plot Validation Loss\n",
    "plt.figure(figsize=(10, 5))\n",
    "plt.plot(steps, eval_loss, label=\"Validation Loss\", color=\"orange\")\n",
    "plt.xlabel(\"Steps\")\n",
    "plt.ylabel(\"Loss\")\n",
    "plt.title(\"Validation Loss Over Steps\")\n",
    "plt.legend()\n",
    "plt.savefig(\"./graphs/split15/validation_loss.png\")\n",
    "plt.show()\n",
    "\n"
   ]
  },
  {
   "cell_type": "code",
   "execution_count": 84,
   "id": "c09716d7",
   "metadata": {},
   "outputs": [
    {
     "data": {
      "image/png": "[encoded data removed]",
      "text/plain": [
       "<Figure size 1000x500 with 1 Axes>"
      ]
     },
     "metadata": {},
     "output_type": "display_data"
    }
   ],
   "source": [
    "# Plot Word Error Rate (WER)\n",
    "plt.figure(figsize=(10, 5))\n",
    "plt.plot(steps, wer, label=\"Word Error Rate (WER)\", color=\"green\")\n",
    "plt.xlabel(\"Steps\")\n",
    "plt.ylabel(\"WER\")\n",
    "plt.title(\"Word Error Rate (WER) Over Steps\")\n",
    "plt.legend()\n",
    "plt.savefig(\"./graphs/split15/wer.png\")\n",
    "plt.show()\n",
    "\n"
   ]
  },
  {
   "cell_type": "code",
   "execution_count": 85,
   "id": "bfe36c27",
   "metadata": {},
   "outputs": [
    {
     "data": {
      "image/png": "[encoded data removed]",
      "text/plain": [
       "<Figure size 1000x500 with 1 Axes>"
      ]
     },
     "metadata": {},
     "output_type": "display_data"
    }
   ],
   "source": [
    "# Plot Character Error Rate (CER)\n",
    "plt.figure(figsize=(10, 5))\n",
    "plt.plot(steps, cer, label=\"Character Error Rate (CER)\", color=\"red\")\n",
    "plt.xlabel(\"Steps\")\n",
    "plt.ylabel(\"CER\")\n",
    "plt.title(\"Character Error Rate (CER) Over Steps\")\n",
    "plt.legend()\n",
    "plt.savefig(\"./graphs/split15/cer.png\")\n",
    "plt.show()\n",
    "\n"
   ]
  },
  {
   "cell_type": "code",
   "execution_count": 86,
   "id": "ed3d9067",
   "metadata": {},
   "outputs": [
    {
     "data": {
      "image/png": "[encoded data removed]",
      "text/plain": [
       "<Figure size 1000x500 with 1 Axes>"
      ]
     },
     "metadata": {},
     "output_type": "display_data"
    }
   ],
   "source": [
    "# Plot Learning Rate\n",
    "plt.figure(figsize=(10, 5))\n",
    "plt.plot(steps, learning_rate, label=\"Learning Rate\", color=\"purple\")\n",
    "plt.xlabel(\"Steps\")\n",
    "plt.ylabel(\"Learning Rate\")\n",
    "plt.title(\"Learning Rate Over Steps\")\n",
    "plt.legend()\n",
    "plt.savefig(\"./graphs/split15/learning_rate.png\")\n",
    "plt.show()"
   ]
  },
  {
   "cell_type": "code",
   "execution_count": null,
   "id": "35d1fc0c",
   "metadata": {},
   "outputs": [],
   "source": []
  }
 ],
 "metadata": {
  "kernelspec": {
   "display_name": "Python 3 (ipykernel)",
   "language": "python",
   "name": "python3"
  },
  "language_info": {
   "codemirror_mode": {
    "name": "ipython",
    "version": 3
   },
   "file_extension": ".py",
   "mimetype": "text/x-python",
   "name": "python",
   "nbconvert_exporter": "python",
   "pygments_lexer": "ipython3",
   "version": "3.12.7"
  }
 },
 "nbformat": 4,
 "nbformat_minor": 5
}
